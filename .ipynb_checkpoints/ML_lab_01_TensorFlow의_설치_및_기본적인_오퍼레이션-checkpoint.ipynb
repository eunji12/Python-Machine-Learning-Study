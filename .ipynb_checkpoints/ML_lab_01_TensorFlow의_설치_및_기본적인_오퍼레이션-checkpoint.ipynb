{
 "cells": [
  {
   "cell_type": "markdown",
   "metadata": {
    "colab_type": "text",
    "id": "view-in-github"
   },
   "source": [
    "<a href=\"https://colab.research.google.com/github/eunji12/Python-Machine-Learning-Study/blob/master/ML_lab_01_TensorFlow%EC%9D%98_%EC%84%A4%EC%B9%98_%EB%B0%8F_%EA%B8%B0%EB%B3%B8%EC%A0%81%EC%9D%B8_%EC%98%A4%ED%8D%BC%EB%A0%88%EC%9D%B4%EC%85%98.ipynb\" target=\"_parent\"><img src=\"https://colab.research.google.com/assets/colab-badge.svg\" alt=\"Open In Colab\"/></a>"
   ]
  },
  {
   "cell_type": "markdown",
   "metadata": {
    "colab_type": "text",
    "id": "rdPqh4fWVbtK"
   },
   "source": [
    "### 김성훈 교수의 모두를 위한 딥러닝 \n",
    "- ML lab 01 - TensorFlow의 설치 및 기본적인 오퍼레이션\n",
    "- ML lab 01 - TensorFlow의 설치및 기본적인 operations (new)\n"
   ]
  },
  {
   "cell_type": "code",
   "execution_count": 0,
   "metadata": {
    "colab": {},
    "colab_type": "code",
    "id": "quaJlEC9Ux2N"
   },
   "outputs": [],
   "source": [
    "import tensorflow as tf"
   ]
  },
  {
   "cell_type": "code",
   "execution_count": 0,
   "metadata": {
    "colab": {},
    "colab_type": "code",
    "id": "Ysao1GSHVIxi"
   },
   "outputs": [],
   "source": [
    "hello = tf.constant(\"hello, TensorFlow!\")"
   ]
  },
  {
   "cell_type": "markdown",
   "metadata": {
    "colab_type": "text",
    "id": "KDhCWgF8VwO3"
   },
   "source": [
    "▼ session생성 후 run으로 노드를 실행"
   ]
  },
  {
   "cell_type": "code",
   "execution_count": 6,
   "metadata": {
    "colab": {
     "base_uri": "https://localhost:8080/",
     "height": 35
    },
    "colab_type": "code",
    "id": "TAGgGJoFVOUF",
    "outputId": "21c3e34c-5893-486d-c211-ecc7d1358e8b"
   },
   "outputs": [
    {
     "name": "stdout",
     "output_type": "stream",
     "text": [
      "b'hello, TensorFlow!'\n"
     ]
    }
   ],
   "source": [
    "sess = tf.Session()\n",
    "print(sess.run(hello))"
   ]
  },
  {
   "cell_type": "markdown",
   "metadata": {
    "colab_type": "text",
    "id": "k_gaCe80WB9z"
   },
   "source": [
    "앞의 b'는 바이트 스트링을 표시함"
   ]
  },
  {
   "cell_type": "code",
   "execution_count": 11,
   "metadata": {
    "colab": {
     "base_uri": "https://localhost:8080/",
     "height": 53
    },
    "colab_type": "code",
    "id": "O5guRJeIWZ2V",
    "outputId": "f1af86c8-3e32-400e-96b9-81bbc5ebb718"
   },
   "outputs": [
    {
     "name": "stdout",
     "output_type": "stream",
     "text": [
      "nd1:  Tensor(\"Const_3:0\", shape=(), dtype=float32)  nd2:  Tensor(\"Const_4:0\", shape=(), dtype=float32)\n",
      "nd3 :  Tensor(\"Add_1:0\", shape=(), dtype=float32)\n"
     ]
    }
   ],
   "source": [
    "node1 = tf.constant(3.0, tf.float32)\n",
    "node2 = tf.constant(4.0)\n",
    "node3 = tf.add(node1,node2)\n",
    "\n",
    "print(\"nd1: \",node1,\" nd2: \",node2)\n",
    "print(\"nd3 : \",node3)"
   ]
  },
  {
   "cell_type": "markdown",
   "metadata": {
    "colab_type": "text",
    "id": "hqLUXhsFY3Bl"
   },
   "source": [
    "session.run 하기전엔 해당 노드가 어떤 노드인지만 알려줌   \n",
    "nd1:  Tensor(\"Const_3:0\", shape=(), dtype=float32)  \n",
    "노드1은 텐서이다, 상수 3.0이 들어간 0차원의 float32형\n",
    "\n"
   ]
  },
  {
   "cell_type": "code",
   "execution_count": 15,
   "metadata": {
    "colab": {
     "base_uri": "https://localhost:8080/",
     "height": 53
    },
    "colab_type": "code",
    "id": "jDwvQz17WmkB",
    "outputId": "14e8c943-24af-4c28-ec07-4e5e41393244"
   },
   "outputs": [
    {
     "name": "stdout",
     "output_type": "stream",
     "text": [
      "sess.run(node1,node2): [3.0, 4.0]\n",
      "sess.run(node3): 7.0\n"
     ]
    }
   ],
   "source": [
    "print(\"sess.run(node1,node2):\",sess.run([node1,node2]))\n",
    "print(\"sess.run(node3):\",sess.run(node3))"
   ]
  },
  {
   "cell_type": "code",
   "execution_count": 0,
   "metadata": {
    "colab": {},
    "colab_type": "code",
    "id": "lq8zV-R5Wvtn"
   },
   "outputs": [],
   "source": []
  },
  {
   "cell_type": "markdown",
   "metadata": {
    "colab_type": "text",
    "id": "q9kIsilOZyFp"
   },
   "source": [
    "#### Placeholder\n",
    "- 그래프를 먼저 생성 후 (빈 노드 - placeholder) 나중에 데이터를 넣어줄 수 있다.\n",
    "- feed_dict : 값을 넘겨준다 "
   ]
  },
  {
   "cell_type": "code",
   "execution_count": 20,
   "metadata": {
    "colab": {
     "base_uri": "https://localhost:8080/",
     "height": 71
    },
    "colab_type": "code",
    "id": "p_Afw3JlZ4Wh",
    "outputId": "4459188c-06ac-40dc-a2ea-261b02c705d7"
   },
   "outputs": [
    {
     "name": "stdout",
     "output_type": "stream",
     "text": [
      "Tensor(\"Placeholder_6:0\", dtype=float32) , Tensor(\"Placeholder_7:0\", dtype=float32) , Tensor(\"add_5:0\", dtype=float32)\n",
      "7.5\n",
      "[3. 7.]\n"
     ]
    }
   ],
   "source": [
    "a = tf.placeholder(tf.float32)\n",
    "b = tf.placeholder(tf.float32)\n",
    "adder_node = a+b\n",
    "\n",
    "print(a,\",\",b,\",\",adder_node)\n",
    "print(sess.run(adder_node, feed_dict={a:3, b:4.5}))\n",
    "print(sess.run(adder_node, feed_dict={a:[1,3],b:[2,4]}))"
   ]
  },
  {
   "cell_type": "markdown",
   "metadata": {
    "colab_type": "text",
    "id": "g_R8-GHXbzd2"
   },
   "source": [
    "### Ranks, Shapes, Types\n",
    "- Rank는 차원,  Shape은 행열, Types는 데이터 타입     \n",
    "-  t=[[1,2,3],[4,5,6],[7,8,9]]    \n",
    "Rank = 2   \n",
    "Shape = (3,3)   \n",
    "Type = tf.float32    "
   ]
  }
 ],
 "metadata": {
  "colab": {
   "collapsed_sections": [],
   "include_colab_link": true,
   "name": "ML lab 01 - TensorFlow의 설치 및 기본적인 오퍼레이션  ",
   "provenance": [],
   "version": "0.3.2"
  },
  "kernelspec": {
   "display_name": "Python 3",
   "language": "python",
   "name": "python3"
  },
  "language_info": {
   "codemirror_mode": {
    "name": "ipython",
    "version": 3
   },
   "file_extension": ".py",
   "mimetype": "text/x-python",
   "name": "python",
   "nbconvert_exporter": "python",
   "pygments_lexer": "ipython3",
   "version": "3.5.6"
  }
 },
 "nbformat": 4,
 "nbformat_minor": 1
}
