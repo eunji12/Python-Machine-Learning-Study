{
  "nbformat": 4,
  "nbformat_minor": 0,
  "metadata": {
    "colab": {
      "name": "3. 신경망의 수학적 구성 요소-1.ipynb",
      "version": "0.3.2",
      "provenance": [],
      "collapsed_sections": [],
      "include_colab_link": true
    },
    "kernelspec": {
      "name": "python3",
      "display_name": "Python 3"
    }
  },
  "cells": [
    {
      "cell_type": "markdown",
      "metadata": {
        "id": "view-in-github",
        "colab_type": "text"
      },
      "source": [
        "<a href=\"https://colab.research.google.com/github/eunji12/Python-Machine-Learning-Study/blob/master/3_%EC%8B%A0%EA%B2%BD%EB%A7%9D%EC%9D%98_%EC%88%98%ED%95%99%EC%A0%81_%EA%B5%AC%EC%84%B1_%EC%9A%94%EC%86%8C_1.ipynb\" target=\"_parent\"><img src=\"https://colab.research.google.com/assets/colab-badge.svg\" alt=\"Open In Colab\"/></a>"
      ]
    },
    {
      "metadata": {
        "id": "SrloJSXrWEsm",
        "colab_type": "text"
      },
      "cell_type": "markdown",
      "source": [
        "### 1. 신경망과의 첫 만남 실습\n",
        "**서론**\n",
        "> 2018.10.24 ~ 2018.10.30  \n",
        "> keras 창시자에게 배우는 딥러닝 - 2장 신경망의 수학적 구성요소   \n",
        "> 설명이 부족한 부분은 학습 도서의 주피터 노트북 [바로가기](https://github.com/rickiepark/deep-learning-with-python-notebooks) 에서 상세한 설명으로 확인 가능합니다.      \n",
        "> PYTHON 코드의 주석 달기 및 이해한 내용만 정리했습니다.\n",
        "\n",
        "\n",
        "#### * 흑백 손글씨 숫자 이미지(28x28픽셀)를 10(0~9)개 범주로 분류하는 문제를 통한 흐름 이해하기\n",
        "#### 순서\n",
        "1. MNIST 데이터 셋 로드 및 TRAINING/TEST SET 구성      \n",
        "2. TRAINING SET을 네트워크에 주입하여 먼저 훈련시킨다. \n",
        "3. 2번 작업으로 학습된 데이터가 TEST SET에 대한 예측을 네트워크에 전달(요청)\n",
        "4. 이 예측이 TEST_LABELS와 맞는지 확인"
      ]
    },
    {
      "metadata": {
        "id": "W1DcvId8W4Ht",
        "colab_type": "code",
        "outputId": "ed4e7812-3e26-4909-eaa6-c6e92206b68e",
        "colab": {
          "base_uri": "https://localhost:8080/",
          "height": 53
        }
      },
      "cell_type": "code",
      "source": [
        "import keras\n",
        "keras.__version__"
      ],
      "execution_count": 0,
      "outputs": [
        {
          "output_type": "stream",
          "text": [
            "Using TensorFlow backend.\n"
          ],
          "name": "stderr"
        },
        {
          "output_type": "execute_result",
          "data": {
            "text/plain": [
              "'2.2.4'"
            ]
          },
          "metadata": {
            "tags": []
          },
          "execution_count": 1
        }
      ]
    },
    {
      "metadata": {
        "id": "RyIsxxkZWf3X",
        "colab_type": "code",
        "outputId": "8342876f-069e-4e23-96c7-d2edc3d5334e",
        "colab": {
          "base_uri": "https://localhost:8080/",
          "height": 53
        }
      },
      "cell_type": "code",
      "source": [
        "from keras.datasets import mnist\n",
        "(train_images,train_labels),(test_images,test_labels) = mnist.load_data()"
      ],
      "execution_count": 0,
      "outputs": [
        {
          "output_type": "stream",
          "text": [
            "Downloading data from https://s3.amazonaws.com/img-datasets/mnist.npz\n",
            "11493376/11490434 [==============================] - 3s 0us/step\n"
          ],
          "name": "stdout"
        }
      ]
    },
    {
      "metadata": {
        "id": "OlEads4qXTMC",
        "colab_type": "code",
        "outputId": "eb47a936-f963-432d-eb6a-d9be3e066202",
        "colab": {
          "base_uri": "https://localhost:8080/",
          "height": 35
        }
      },
      "cell_type": "code",
      "source": [
        "train_images.shape"
      ],
      "execution_count": 0,
      "outputs": [
        {
          "output_type": "execute_result",
          "data": {
            "text/plain": [
              "(60000, 28, 28)"
            ]
          },
          "metadata": {
            "tags": []
          },
          "execution_count": 3
        }
      ]
    },
    {
      "metadata": {
        "id": "kcdEtAAyfsd1",
        "colab_type": "text"
      },
      "cell_type": "markdown",
      "source": [
        "#### from keras.datasets import mnist   \n",
        "- keras.datasets 에서 minist 를 import    \n",
        "\n",
        "#### (train_images,train_labels),(test_images,test_labels) = mnist.load_data()   \n",
        "- mnist데이터를 로드 후 값 할당 : train_images 60,000개 test_image 10,000개, images와 labels 는 각각 1:1 매핑된다.   \n",
        "\n",
        "#### train_images.shape \n",
        "shape : 각 차원의 크기를 알려주는 정수들이 모인 튜플   \n",
        "(60000, 28, 28) : 28행, 28열의 6만개 데이터\n"
      ]
    },
    {
      "metadata": {
        "id": "txkJxt40YpeZ",
        "colab_type": "code",
        "outputId": "67a69e08-0bb1-4eb3-9a98-d7650ef75842",
        "colab": {
          "base_uri": "https://localhost:8080/",
          "height": 35
        }
      },
      "cell_type": "code",
      "source": [
        "len(train_images)"
      ],
      "execution_count": 0,
      "outputs": [
        {
          "output_type": "execute_result",
          "data": {
            "text/plain": [
              "60000"
            ]
          },
          "metadata": {
            "tags": []
          },
          "execution_count": 4
        }
      ]
    },
    {
      "metadata": {
        "id": "n15ptqW-Y7xI",
        "colab_type": "code",
        "outputId": "8b0d589d-e5de-4df0-c142-e8aeb795db18",
        "colab": {
          "base_uri": "https://localhost:8080/",
          "height": 35
        }
      },
      "cell_type": "code",
      "source": [
        "train_labels"
      ],
      "execution_count": 0,
      "outputs": [
        {
          "output_type": "execute_result",
          "data": {
            "text/plain": [
              "array([5, 0, 4, ..., 5, 6, 8], dtype=uint8)"
            ]
          },
          "metadata": {
            "tags": []
          },
          "execution_count": 5
        }
      ]
    },
    {
      "metadata": {
        "id": "HZJZGNNNZWh4",
        "colab_type": "code",
        "outputId": "38a9d501-0247-4c14-eb4a-402045d24159",
        "colab": {
          "base_uri": "https://localhost:8080/",
          "height": 35
        }
      },
      "cell_type": "code",
      "source": [
        "test_images.shape"
      ],
      "execution_count": 0,
      "outputs": [
        {
          "output_type": "execute_result",
          "data": {
            "text/plain": [
              "(10000, 28, 28)"
            ]
          },
          "metadata": {
            "tags": []
          },
          "execution_count": 6
        }
      ]
    },
    {
      "metadata": {
        "id": "P0QduPBDZWkw",
        "colab_type": "code",
        "outputId": "d500f8c6-e36f-4141-9688-4b6a327c6c60",
        "colab": {
          "base_uri": "https://localhost:8080/",
          "height": 35
        }
      },
      "cell_type": "code",
      "source": [
        "test_labels"
      ],
      "execution_count": 0,
      "outputs": [
        {
          "output_type": "execute_result",
          "data": {
            "text/plain": [
              "array([7, 2, 1, ..., 4, 5, 6], dtype=uint8)"
            ]
          },
          "metadata": {
            "tags": []
          },
          "execution_count": 7
        }
      ]
    },
    {
      "metadata": {
        "id": "-SoIjm2oWEJa",
        "colab_type": "text"
      },
      "cell_type": "markdown",
      "source": [
        "#### train_labels\n",
        "array([7, 2, 1, ..., 4, 5, 6], dtype=uint8) : 0-9까지의 데이터가 라벨링된 정수형 배열 출력\n"
      ]
    },
    {
      "metadata": {
        "id": "5P4HzSwEZWpP",
        "colab_type": "code",
        "colab": {}
      },
      "cell_type": "code",
      "source": [
        "from keras import models\n",
        "from keras import layers\n",
        "\n",
        "network = models.Sequential()\n",
        "network.add(layers.Dense(512, activation='relu', input_shape=(28*28,)))\n",
        "network.add(layers.Dense(10, activation='softmax'))"
      ],
      "execution_count": 0,
      "outputs": []
    },
    {
      "metadata": {
        "id": "bRVUd4WoqAXo",
        "colab_type": "text"
      },
      "cell_type": "markdown",
      "source": [
        "- 신경망의 데이터 처리 필터인 layer import\n",
        "\n",
        "\n",
        "#### network = models.Sequential()\n",
        ": 순차적 모델(선형 스택 모델) 생성   \n",
        ": [Sequential model guide](https://keras.io/getting-started/sequential-model-guide/)\n",
        "#### network.add(layers.Dense(512, activation='relu', input_shape=(28*28,)))\n",
        ": network에 layer추가   \n",
        ": Dense - fully connetec layer (조밀하게 연결된 신경망 층)\n",
        "#### network.add(layers.Dense(10, activation='softmax'))\n",
        ": network에 layer추가   \n",
        ": softmax : 10개의 확률 점수가 들어있는 배열을 반환하는 소프트맥스 층, 현재의 숫자 이미지가 10개의 숫자 클래스 중 하나에 속할 확률\n"
      ]
    },
    {
      "metadata": {
        "id": "TqOOzzxMZWsv",
        "colab_type": "code",
        "colab": {}
      },
      "cell_type": "code",
      "source": [
        "network.compile(optimizer='rmsprop',\n",
        "                loss='categorical_crossentropy',\n",
        "                metrics=['accuracy'])"
      ],
      "execution_count": 0,
      "outputs": []
    },
    {
      "metadata": {
        "id": "pnBDzIMqwfK9",
        "colab_type": "text"
      },
      "cell_type": "markdown",
      "source": [
        "#### network complie에 필요한 3가지 단계\n",
        "- optimizer, loss(cost, loss, objective function), metrics : 옵티마이저, 손실함수, 측정항목\n",
        "- rmsprop : 옵티마이저 알고리즘의 종류 \n",
        "- categorical_crossentropy : 손실 함수의 종류\n",
        "- accuracy :측정 항목으로 정확도를 줌(정확히 분류된 이미지의 비율) 만 고려."
      ]
    },
    {
      "metadata": {
        "id": "m_8LJ5IjZWxn",
        "colab_type": "code",
        "colab": {}
      },
      "cell_type": "code",
      "source": [
        "train_images = train_images.reshape((60000,28*28))\n",
        "train_images = train_images.astype('float32')/255\n",
        "\n",
        "test_images = test_images.reshape((10000,28*28))\n",
        "test_images = test_images.astype('float32')/255"
      ],
      "execution_count": 0,
      "outputs": []
    },
    {
      "metadata": {
        "id": "hlHCAIGKxp_y",
        "colab_type": "text"
      },
      "cell_type": "markdown",
      "source": [
        "#### training 전 데이터의 전처리 작업\n",
        "- image 데이터를 네트워크에 맞는 크기로 바꾸고(네트워크에 맞는 크기??)   0 ~ 1 사이의 값으로 스케일을 조정한다.\n",
        "-   `[0, 255]` 사이의 값인 `uint8` 타입의 `(60000, 28, 28)` 크기를 가진 배열로 저장되어 있는 트레이닝 이미지를    \n",
        "0과 1 사이의 값을 가지는 `float32` 타입의 `(60000, 28 * 28)` 크기의 배열로 바꾼다."
      ]
    },
    {
      "metadata": {
        "id": "8NVt9xUxZW04",
        "colab_type": "code",
        "colab": {}
      },
      "cell_type": "code",
      "source": [
        "from keras.utils import to_categorical\n",
        "\n",
        "train_labels = to_categorical(train_labels)\n",
        "test_labels = to_categorical(test_labels)"
      ],
      "execution_count": 0,
      "outputs": []
    },
    {
      "metadata": {
        "id": "5jFEa44ExrTC",
        "colab_type": "text"
      },
      "cell_type": "markdown",
      "source": [
        "- 자세한 설명은 추 후. to_categorical을 사용하여 레이블을 범주형으로 인코딩한다."
      ]
    },
    {
      "metadata": {
        "id": "uo-5nOSGZW4J",
        "colab_type": "code",
        "outputId": "cd48ab07-1dae-4e45-e702-20f05e5f7432",
        "colab": {
          "base_uri": "https://localhost:8080/",
          "height": 215
        }
      },
      "cell_type": "code",
      "source": [
        "network.fit(train_images, train_labels, epochs=5, batch_size=128)"
      ],
      "execution_count": 0,
      "outputs": [
        {
          "output_type": "stream",
          "text": [
            "Epoch 1/5\n",
            "60000/60000 [==============================] - 5s 91us/step - loss: 0.2553 - acc: 0.9266\n",
            "Epoch 2/5\n",
            "60000/60000 [==============================] - 5s 81us/step - loss: 0.1028 - acc: 0.9702\n",
            "Epoch 3/5\n",
            "60000/60000 [==============================] - 5s 82us/step - loss: 0.0690 - acc: 0.9792\n",
            "Epoch 4/5\n",
            "60000/60000 [==============================] - 5s 83us/step - loss: 0.0502 - acc: 0.9844\n",
            "Epoch 5/5\n",
            "60000/60000 [==============================] - 5s 82us/step - loss: 0.0372 - acc: 0.9892\n"
          ],
          "name": "stdout"
        },
        {
          "output_type": "execute_result",
          "data": {
            "text/plain": [
              "<keras.callbacks.History at 0x7f677f508828>"
            ]
          },
          "metadata": {
            "tags": []
          },
          "execution_count": 12
        }
      ]
    },
    {
      "metadata": {
        "id": "pcnNdDXPZW7J",
        "colab_type": "code",
        "outputId": "4eb8a99b-f22f-4861-8d7b-efb62bad7996",
        "colab": {
          "base_uri": "https://localhost:8080/",
          "height": 35
        }
      },
      "cell_type": "code",
      "source": [
        "test_loss, test_acc= network.evaluate(test_images, test_labels)"
      ],
      "execution_count": 0,
      "outputs": [
        {
          "output_type": "stream",
          "text": [
            "10000/10000 [==============================] - 0s 46us/step\n"
          ],
          "name": "stdout"
        }
      ]
    },
    {
      "metadata": {
        "id": "olvrCp-QZW-i",
        "colab_type": "code",
        "outputId": "6bde356d-07e8-46d3-beef-3e639e253b99",
        "colab": {
          "base_uri": "https://localhost:8080/",
          "height": 35
        }
      },
      "cell_type": "code",
      "source": [
        "print('test_loss:',test_loss,'test_acc:',test_acc)"
      ],
      "execution_count": 0,
      "outputs": [
        {
          "output_type": "stream",
          "text": [
            "test_loss: 0.06111577018849784 test_acc: 0.9815\n"
          ],
          "name": "stdout"
        }
      ]
    },
    {
      "metadata": {
        "id": "meGbxGmVyGyU",
        "colab_type": "text"
      },
      "cell_type": "markdown",
      "source": [
        "#### network.fit(train_images, train_labels, epochs=5, batch_size=128\n",
        "- fit 메서드를 호출하여 훈련데이터에 모델을 학습시킨다.\n",
        "- 60,000개의 데이터를 128개씩 쪼개서 반복 (469 interation) 트레이닝, 전체 학습 총 5번(5 epochs)"
      ]
    },
    {
      "metadata": {
        "id": "IcJNdXvImOnJ",
        "colab_type": "code",
        "colab": {}
      },
      "cell_type": "code",
      "source": [
        "import matplotlib.pyplot as plt"
      ],
      "execution_count": 0,
      "outputs": []
    },
    {
      "metadata": {
        "id": "tHfsaQdlkPvz",
        "colab_type": "code",
        "outputId": "290aff91-9d83-44b6-9c46-98d9ec193b0b",
        "colab": {
          "base_uri": "https://localhost:8080/",
          "height": 2375
        }
      },
      "cell_type": "code",
      "source": [
        "digit = train_images[4]\n",
        "print(digit)"
      ],
      "execution_count": 0,
      "outputs": [
        {
          "output_type": "stream",
          "text": [
            "[0.         0.         0.         0.         0.         0.\n",
            " 0.         0.         0.         0.         0.         0.\n",
            " 0.         0.         0.         0.         0.         0.\n",
            " 0.         0.         0.         0.         0.         0.\n",
            " 0.         0.         0.         0.         0.         0.\n",
            " 0.         0.         0.         0.         0.         0.\n",
            " 0.         0.         0.         0.         0.         0.\n",
            " 0.         0.         0.         0.         0.         0.\n",
            " 0.         0.         0.         0.         0.         0.\n",
            " 0.         0.         0.         0.         0.         0.\n",
            " 0.         0.         0.         0.         0.         0.\n",
            " 0.         0.         0.         0.         0.         0.\n",
            " 0.         0.         0.         0.         0.         0.\n",
            " 0.         0.         0.         0.         0.         0.\n",
            " 0.         0.         0.         0.         0.         0.\n",
            " 0.         0.         0.         0.         0.         0.\n",
            " 0.         0.         0.         0.         0.         0.\n",
            " 0.         0.         0.         0.         0.         0.\n",
            " 0.         0.         0.         0.         0.         0.\n",
            " 0.         0.         0.         0.         0.         0.\n",
            " 0.         0.         0.         0.         0.         0.\n",
            " 0.         0.         0.         0.         0.         0.\n",
            " 0.         0.         0.         0.         0.         0.\n",
            " 0.         0.         0.         0.         0.         0.\n",
            " 0.         0.         0.         0.         0.         0.\n",
            " 0.         0.         0.         0.         0.         0.\n",
            " 0.         0.         0.         0.         0.         0.\n",
            " 0.         0.         0.         0.         0.         0.\n",
            " 0.         0.         0.         0.         0.         0.\n",
            " 0.         0.         0.         0.         0.         0.\n",
            " 0.         0.         0.         0.         0.         0.\n",
            " 0.         0.         0.         0.         0.         0.\n",
            " 0.         0.         0.         0.         0.         0.\n",
            " 0.         0.         0.         0.         0.         0.\n",
            " 0.         0.         0.         0.         0.21568628 0.5803922\n",
            " 0.8235294  0.99215686 0.99215686 0.44313726 0.34117648 0.5803922\n",
            " 0.21568628 0.         0.         0.         0.         0.\n",
            " 0.         0.         0.         0.         0.         0.\n",
            " 0.         0.         0.         0.         0.         0.\n",
            " 0.         0.34117648 0.9098039  0.9882353  0.99215686 0.7411765\n",
            " 0.8235294  0.9882353  0.9882353  0.99215686 0.65882355 0.\n",
            " 0.         0.         0.         0.         0.         0.\n",
            " 0.         0.         0.         0.         0.         0.\n",
            " 0.         0.         0.         0.01568628 0.22352941 0.9490196\n",
            " 0.9882353  0.74509805 0.25490198 0.01960784 0.04705882 0.7137255\n",
            " 0.9882353  0.99215686 0.45490196 0.         0.         0.\n",
            " 0.         0.         0.         0.         0.         0.\n",
            " 0.         0.         0.         0.         0.         0.\n",
            " 0.         0.3764706  0.9882353  0.9882353  0.7176471  0.05490196\n",
            " 0.         0.         0.36078432 0.9882353  0.9882353  0.88235295\n",
            " 0.08235294 0.         0.         0.         0.         0.\n",
            " 0.         0.         0.         0.         0.         0.\n",
            " 0.         0.         0.         0.         0.5176471  0.99215686\n",
            " 0.9882353  0.57254905 0.05490196 0.         0.         0.\n",
            " 0.84313726 0.9882353  0.9882353  0.30980393 0.         0.\n",
            " 0.         0.         0.         0.         0.         0.\n",
            " 0.         0.         0.         0.         0.         0.\n",
            " 0.         0.49411765 0.99215686 0.96862745 0.6901961  0.03529412\n",
            " 0.         0.         0.03137255 0.30588236 0.9607843  0.99215686\n",
            " 0.5058824  0.         0.         0.         0.         0.\n",
            " 0.         0.         0.         0.         0.         0.\n",
            " 0.         0.         0.         0.         0.0627451  0.9098039\n",
            " 0.9882353  0.6901961  0.         0.         0.         0.14117648\n",
            " 0.7882353  0.9882353  0.9882353  0.6627451  0.04313726 0.\n",
            " 0.         0.         0.         0.         0.         0.\n",
            " 0.         0.         0.         0.         0.         0.\n",
            " 0.         0.         0.08627451 0.9882353  0.9882353  0.11764706\n",
            " 0.08627451 0.46666667 0.77254903 0.94509804 0.99215686 0.9882353\n",
            " 0.9843137  0.3019608  0.         0.         0.         0.\n",
            " 0.         0.         0.         0.         0.         0.\n",
            " 0.         0.         0.         0.         0.         0.\n",
            " 0.0627451  0.90588236 0.9882353  0.99215686 0.9882353  0.9882353\n",
            " 0.9882353  0.8862745  0.8901961  0.9882353  0.90588236 0.\n",
            " 0.         0.         0.         0.         0.         0.\n",
            " 0.         0.         0.         0.         0.         0.\n",
            " 0.         0.         0.         0.         0.         0.21568628\n",
            " 0.92156863 0.99215686 0.8509804  0.5411765  0.16470589 0.09411765\n",
            " 0.7529412  0.9882353  0.56078434 0.         0.         0.\n",
            " 0.         0.         0.         0.         0.         0.\n",
            " 0.         0.         0.         0.         0.         0.\n",
            " 0.         0.         0.         0.         0.         0.\n",
            " 0.         0.         0.         0.24313726 1.         0.99215686\n",
            " 0.42745098 0.         0.         0.         0.         0.\n",
            " 0.         0.         0.         0.         0.         0.\n",
            " 0.         0.         0.         0.         0.         0.\n",
            " 0.         0.         0.         0.         0.         0.\n",
            " 0.         0.2784314  0.99215686 0.9882353  0.08235294 0.\n",
            " 0.         0.         0.         0.         0.         0.\n",
            " 0.         0.         0.         0.         0.         0.\n",
            " 0.         0.         0.         0.         0.         0.\n",
            " 0.         0.         0.         0.         0.         0.\n",
            " 0.99215686 0.9882353  0.08235294 0.         0.         0.\n",
            " 0.         0.         0.         0.         0.         0.\n",
            " 0.         0.         0.         0.         0.         0.\n",
            " 0.         0.         0.         0.         0.         0.\n",
            " 0.         0.         0.         0.2784314  0.99215686 0.9882353\n",
            " 0.08235294 0.         0.         0.         0.         0.\n",
            " 0.         0.         0.         0.         0.         0.\n",
            " 0.         0.         0.         0.         0.         0.\n",
            " 0.         0.         0.         0.         0.         0.\n",
            " 0.         0.41568628 0.99215686 0.9882353  0.08235294 0.\n",
            " 0.         0.         0.         0.         0.         0.\n",
            " 0.         0.         0.         0.         0.         0.\n",
            " 0.         0.         0.         0.         0.         0.\n",
            " 0.         0.         0.         0.         0.         0.1764706\n",
            " 1.         0.99215686 0.08235294 0.         0.         0.\n",
            " 0.         0.         0.         0.         0.         0.\n",
            " 0.         0.         0.         0.         0.         0.\n",
            " 0.         0.         0.         0.         0.         0.\n",
            " 0.         0.         0.         0.         0.85490197 0.9882353\n",
            " 0.21960784 0.         0.         0.         0.         0.\n",
            " 0.         0.         0.         0.         0.         0.\n",
            " 0.         0.         0.         0.         0.         0.\n",
            " 0.         0.         0.         0.         0.         0.\n",
            " 0.         0.         0.3764706  0.9882353  0.7411765  0.16470589\n",
            " 0.         0.         0.         0.         0.         0.\n",
            " 0.         0.         0.         0.         0.         0.\n",
            " 0.         0.         0.         0.         0.         0.\n",
            " 0.         0.         0.         0.         0.         0.\n",
            " 0.05490196 0.72156864 0.9882353  0.6666667  0.04313726 0.\n",
            " 0.         0.         0.         0.         0.         0.\n",
            " 0.         0.         0.         0.         0.         0.\n",
            " 0.         0.         0.         0.         0.         0.\n",
            " 0.         0.         0.         0.         0.         0.05490196\n",
            " 0.5764706  0.9882353  0.16470589 0.         0.         0.\n",
            " 0.         0.         0.         0.         0.         0.\n",
            " 0.         0.         0.         0.         0.         0.\n",
            " 0.         0.         0.         0.         0.         0.\n",
            " 0.         0.         0.         0.         0.         0.\n",
            " 0.         0.         0.         0.         0.         0.\n",
            " 0.         0.         0.         0.        ]\n"
          ],
          "name": "stdout"
        }
      ]
    },
    {
      "metadata": {
        "id": "ObDrVgTxoSHn",
        "colab_type": "code",
        "outputId": "341ad268-a7ce-4b4a-ed04-b7e3e8be252b",
        "colab": {
          "base_uri": "https://localhost:8080/",
          "height": 347
        }
      },
      "cell_type": "code",
      "source": [
        "digit = train_images[4]\n",
        "#print(digit)\n",
        "plt.imshow(digit.reshape(28,28), cmap=plt.cm.binary)\n",
        "plt.show()"
      ],
      "execution_count": 0,
      "outputs": [
        {
          "output_type": "display_data",
          "data": {
            "image/png": "[encoded data removed]",
            "text/plain": [
              "<matplotlib.figure.Figure at 0x7f67791facc0>"
            ]
          },
          "metadata": {
            "tags": []
          }
        }
      ]
    },
    {
      "metadata": {
        "id": "Zl9jmrxXo-ot",
        "colab_type": "code",
        "colab": {}
      },
      "cell_type": "code",
      "source": [
        ""
      ],
      "execution_count": 0,
      "outputs": []
    }
  ]
}