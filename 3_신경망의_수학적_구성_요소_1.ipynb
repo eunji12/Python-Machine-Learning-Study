{
  "nbformat": 4,
  "nbformat_minor": 0,
  "metadata": {
    "colab": {
      "name": "3. 신경망의 수학적 구성 요소-1.ipynb",
      "version": "0.3.2",
      "provenance": [],
      "collapsed_sections": []
    },
    "kernelspec": {
      "name": "python3",
      "display_name": "Python 3"
    }
  },
  "cells": [
    {
      "metadata": {
        "id": "SrloJSXrWEsm",
        "colab_type": "text"
      },
      "cell_type": "markdown",
      "source": [
        "### 1. 신경망과의 첫 만남 실습\n",
        "**서론**\n",
        "> 2018.10.24 ~ 2018.10.30  \n",
        "> keras 창시자에게 배우는 딥러닝 - 2장 신경망의 수학적 구성요소   \n",
        "> 설명이 부족한 부분은 학습 도서의 주피터 노트북 [바로가기](https://github.com/rickiepark/deep-learning-with-python-notebooks) 에서 상세한 설명으로 확인 가능합니다.      \n",
        "> PYTHON 코드의 주석 달기 및 이해한 내용만 정리했습니다.\n",
        "\n",
        "\n",
        "#### * 흑백 손글씨 숫자 이미지(28x28픽셀)를 10(0~9)개 범주로 분류하는 문제를 통한 흐름 이해하기\n",
        "#### 순서\n",
        "1. MNIST 데이터 셋 로드 및 TRAINING/TEST SET 구성      \n",
        "2. TRAINING SET을 네트워크에 주입하여 먼저 훈련시킨다. \n",
        "3. 2번 작업으로 학습된 데이터가 TEST SET에 대한 예측을 네트워크에 전달(요청)\n",
        "4. 이 예측이 TEST_LABELS와 맞는지 확인"
      ]
    },
    {
      "metadata": {
        "id": "W1DcvId8W4Ht",
        "colab_type": "code",
        "colab": {
          "base_uri": "https://localhost:8080/",
          "height": 35
        },
        "outputId": "526d83a6-9a4b-4897-f8cb-a74a3775a394"
      },
      "cell_type": "code",
      "source": [
        "import keras\n",
        "keras.__version__"
      ],
      "execution_count": 50,
      "outputs": [
        {
          "output_type": "execute_result",
          "data": {
            "text/plain": [
              "'2.1.6'"
            ]
          },
          "metadata": {
            "tags": []
          },
          "execution_count": 50
        }
      ]
    },
    {
      "metadata": {
        "id": "RyIsxxkZWf3X",
        "colab_type": "code",
        "colab": {}
      },
      "cell_type": "code",
      "source": [
        "from keras.datasets import mnist\n",
        "(train_images,train_labels),(test_images,test_labels) = mnist.load_data()"
      ],
      "execution_count": 0,
      "outputs": []
    },
    {
      "metadata": {
        "id": "OlEads4qXTMC",
        "colab_type": "code",
        "colab": {
          "base_uri": "https://localhost:8080/",
          "height": 35
        },
        "outputId": "84c402c9-e4e5-4f83-aa76-e1d7f9110848"
      },
      "cell_type": "code",
      "source": [
        "train_images.shape"
      ],
      "execution_count": 52,
      "outputs": [
        {
          "output_type": "execute_result",
          "data": {
            "text/plain": [
              "(60000, 28, 28)"
            ]
          },
          "metadata": {
            "tags": []
          },
          "execution_count": 52
        }
      ]
    },
    {
      "metadata": {
        "id": "kcdEtAAyfsd1",
        "colab_type": "text"
      },
      "cell_type": "markdown",
      "source": [
        "#### from keras.datasets import mnist   \n",
        "- keras.datasets 에서 minist 를 import    \n",
        "\n",
        "#### (train_images,train_labels),(test_images,test_labels) = mnist.load_data()   \n",
        "- mnist데이터를 로드 후 값 할당 : train_images 60,000개 test_image 10,000개, images와 labels 는 각각 1:1 매핑된다.   \n",
        "\n",
        "#### train_images.shape \n",
        "shape : 각 차원의 크기를 알려주는 정수들이 모인 튜플   \n",
        "(60000, 28, 28) : 28행, 28열의 6만개 데이터\n"
      ]
    },
    {
      "metadata": {
        "id": "txkJxt40YpeZ",
        "colab_type": "code",
        "colab": {
          "base_uri": "https://localhost:8080/",
          "height": 35
        },
        "outputId": "c7629584-fc29-43b3-8bc0-4afc6f89a0a7"
      },
      "cell_type": "code",
      "source": [
        "len(train_images)"
      ],
      "execution_count": 53,
      "outputs": [
        {
          "output_type": "execute_result",
          "data": {
            "text/plain": [
              "60000"
            ]
          },
          "metadata": {
            "tags": []
          },
          "execution_count": 53
        }
      ]
    },
    {
      "metadata": {
        "id": "n15ptqW-Y7xI",
        "colab_type": "code",
        "colab": {
          "base_uri": "https://localhost:8080/",
          "height": 35
        },
        "outputId": "231663ee-806d-4111-ce3a-e2d3b6d7ef4a"
      },
      "cell_type": "code",
      "source": [
        "train_labels"
      ],
      "execution_count": 54,
      "outputs": [
        {
          "output_type": "execute_result",
          "data": {
            "text/plain": [
              "array([5, 0, 4, ..., 5, 6, 8], dtype=uint8)"
            ]
          },
          "metadata": {
            "tags": []
          },
          "execution_count": 54
        }
      ]
    },
    {
      "metadata": {
        "id": "HZJZGNNNZWh4",
        "colab_type": "code",
        "colab": {
          "base_uri": "https://localhost:8080/",
          "height": 35
        },
        "outputId": "84ff7a28-b736-4bde-ce82-840e1ca80e8e"
      },
      "cell_type": "code",
      "source": [
        "test_images.shape"
      ],
      "execution_count": 55,
      "outputs": [
        {
          "output_type": "execute_result",
          "data": {
            "text/plain": [
              "(10000, 28, 28)"
            ]
          },
          "metadata": {
            "tags": []
          },
          "execution_count": 55
        }
      ]
    },
    {
      "metadata": {
        "id": "P0QduPBDZWkw",
        "colab_type": "code",
        "colab": {
          "base_uri": "https://localhost:8080/",
          "height": 35
        },
        "outputId": "f9493827-e5ab-4d9a-c518-ee9870c6df7f"
      },
      "cell_type": "code",
      "source": [
        "test_labels"
      ],
      "execution_count": 56,
      "outputs": [
        {
          "output_type": "execute_result",
          "data": {
            "text/plain": [
              "array([7, 2, 1, ..., 4, 5, 6], dtype=uint8)"
            ]
          },
          "metadata": {
            "tags": []
          },
          "execution_count": 56
        }
      ]
    },
    {
      "metadata": {
        "id": "-SoIjm2oWEJa",
        "colab_type": "text"
      },
      "cell_type": "markdown",
      "source": [
        "#### train_labels\n",
        "array([7, 2, 1, ..., 4, 5, 6], dtype=uint8) : 0-9까지의 데이터가 라벨링된 정수형 배열 출력\n"
      ]
    },
    {
      "metadata": {
        "id": "5P4HzSwEZWpP",
        "colab_type": "code",
        "colab": {}
      },
      "cell_type": "code",
      "source": [
        "from keras import models\n",
        "from keras import layers\n",
        "\n",
        "network = models.Sequential()\n",
        "network.add(layers.Dense(512, activation='relu', input_shape=(28*28,)))\n",
        "network.add(layers.Dense(10, activation='softmax'))"
      ],
      "execution_count": 0,
      "outputs": []
    },
    {
      "metadata": {
        "id": "bRVUd4WoqAXo",
        "colab_type": "text"
      },
      "cell_type": "markdown",
      "source": [
        "- 신경망의 데이터 처리 필터인 layer import\n",
        "\n",
        "\n",
        "#### network = models.Sequential()\n",
        ": 순차적 모델(선형 스택 모델) 생성   \n",
        ": [Sequential model guide](https://keras.io/getting-started/sequential-model-guide/)\n",
        "#### network.add(layers.Dense(512, activation='relu', input_shape=(28*28,)))\n",
        ": network에 layer추가   \n",
        ": Dense - fully connetec layer (조밀하게 연결된 신경망 층)\n",
        "#### network.add(layers.Dense(10, activation='softmax'))\n",
        ": network에 layer추가   \n",
        ": softmax : 10개의 확률 점수가 들어있는 배열을 반환하는 소프트맥스 층, 현재의 숫자 이미지가 10개의 숫자 클래스 중 하나에 속할 확률\n"
      ]
    },
    {
      "metadata": {
        "id": "TqOOzzxMZWsv",
        "colab_type": "code",
        "colab": {}
      },
      "cell_type": "code",
      "source": [
        "network.compile(optimizer='rmsprop',\n",
        "                loss='categorical_crossentropy',\n",
        "                metrics=['accuracy'])"
      ],
      "execution_count": 0,
      "outputs": []
    },
    {
      "metadata": {
        "id": "pnBDzIMqwfK9",
        "colab_type": "text"
      },
      "cell_type": "markdown",
      "source": [
        "#### network complie에 필요한 3가지 단계\n",
        "- optimizer, loss(cost, loss, objective function), metrics : 옵티마이저, 손실함수, 측정항목\n",
        "- rmsprop : 옵티마이저 알고리즘의 종류 \n",
        "- categorical_crossentropy : 손실 함수의 종류\n",
        "- accuracy :측정 항목으로 정확도를 줌(정확히 분류된 이미지의 비율) 만 고려."
      ]
    },
    {
      "metadata": {
        "id": "m_8LJ5IjZWxn",
        "colab_type": "code",
        "colab": {}
      },
      "cell_type": "code",
      "source": [
        "train_images = train_images.reshape((60000,28*28))\n",
        "train_images = train_images.astype('float32')/255\n",
        "\n",
        "test_images = test_images.reshape((10000,28*28))\n",
        "test_images = test_images.astype('float32')/255"
      ],
      "execution_count": 0,
      "outputs": []
    },
    {
      "metadata": {
        "id": "hlHCAIGKxp_y",
        "colab_type": "text"
      },
      "cell_type": "markdown",
      "source": [
        "#### training 전 데이터의 전처리 작업\n",
        "- image 데이터를 네트워크에 맞는 크기로 바꾸고(네트워크에 맞는 크기??)   0 ~ 1 사이의 값으로 스케일을 조정한다.\n",
        "-   `[0, 255]` 사이의 값인 `uint8` 타입의 `(60000, 28, 28)` 크기를 가진 배열로 저장되어 있는 트레이닝 이미지를    \n",
        "0과 1 사이의 값을 가지는 `float32` 타입의 `(60000, 28 * 28)` 크기의 배열로 바꾼다."
      ]
    },
    {
      "metadata": {
        "id": "8NVt9xUxZW04",
        "colab_type": "code",
        "colab": {}
      },
      "cell_type": "code",
      "source": [
        "from keras.utils import to_categorical\n",
        "\n",
        "train_labels = to_categorical(train_labels)\n",
        "test_labels = to_categorical(test_labels)"
      ],
      "execution_count": 0,
      "outputs": []
    },
    {
      "metadata": {
        "id": "5jFEa44ExrTC",
        "colab_type": "text"
      },
      "cell_type": "markdown",
      "source": [
        "- 자세한 설명은 추 후. to_categorical을 사용하여 레이블을 범주형으로 인코딩한다."
      ]
    },
    {
      "metadata": {
        "id": "uo-5nOSGZW4J",
        "colab_type": "code",
        "colab": {
          "base_uri": "https://localhost:8080/",
          "height": 217
        },
        "outputId": "24b8b44d-c94b-41bb-efc2-9c132c99b710"
      },
      "cell_type": "code",
      "source": [
        "network.fit(train_images, train_labels, epochs=5, batch_size=128)"
      ],
      "execution_count": 71,
      "outputs": [
        {
          "output_type": "stream",
          "text": [
            "Epoch 1/5\n",
            "60000/60000 [==============================] - 5s 85us/step - loss: 0.0290 - acc: 0.9915\n",
            "Epoch 2/5\n",
            "60000/60000 [==============================] - 5s 85us/step - loss: 0.0222 - acc: 0.9935\n",
            "Epoch 3/5\n",
            "60000/60000 [==============================] - 5s 84us/step - loss: 0.0171 - acc: 0.9953\n",
            "Epoch 4/5\n",
            "60000/60000 [==============================] - 5s 82us/step - loss: 0.0131 - acc: 0.9963\n",
            "Epoch 5/5\n",
            "60000/60000 [==============================] - 5s 82us/step - loss: 0.0103 - acc: 0.9967\n"
          ],
          "name": "stdout"
        },
        {
          "output_type": "execute_result",
          "data": {
            "text/plain": [
              "<keras.callbacks.History at 0x7f6eaf37a5c0>"
            ]
          },
          "metadata": {
            "tags": []
          },
          "execution_count": 71
        }
      ]
    },
    {
      "metadata": {
        "id": "pcnNdDXPZW7J",
        "colab_type": "code",
        "colab": {
          "base_uri": "https://localhost:8080/",
          "height": 35
        },
        "outputId": "c4b1bec6-d1f7-4c6b-9d36-78018f2a3492"
      },
      "cell_type": "code",
      "source": [
        "test_loss, test_acc= network.evaluate(test_images, test_labels)"
      ],
      "execution_count": 62,
      "outputs": [
        {
          "output_type": "stream",
          "text": [
            "10000/10000 [==============================] - 1s 62us/step\n"
          ],
          "name": "stdout"
        }
      ]
    },
    {
      "metadata": {
        "id": "olvrCp-QZW-i",
        "colab_type": "code",
        "colab": {
          "base_uri": "https://localhost:8080/",
          "height": 35
        },
        "outputId": "425e7dad-bb40-4c50-eec0-d9b0942d9e0e"
      },
      "cell_type": "code",
      "source": [
        "print('test_loss:',test_loss,'test_acc:',test_acc)"
      ],
      "execution_count": 63,
      "outputs": [
        {
          "output_type": "stream",
          "text": [
            "test_loss: 0.06645038438497577 test_acc: 0.9792\n"
          ],
          "name": "stdout"
        }
      ]
    },
    {
      "metadata": {
        "id": "meGbxGmVyGyU",
        "colab_type": "text"
      },
      "cell_type": "markdown",
      "source": [
        "#### network.fit(train_images, train_labels, epochs=5, batch_size=128\n",
        "- fit 메서드를 호출하여 훈련데이터에 모델을 학습시킨다.\n",
        "- 60,000개의 데이터를 128개씩 쪼개서 반복 (469 interation) 트레이닝, 전체 학습 총 5번(5 epochs)"
      ]
    }
  ]
}