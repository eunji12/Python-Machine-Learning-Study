{
  "nbformat": 4,
  "nbformat_minor": 0,
  "metadata": {
    "colab": {
      "name": "ML lab 01 - TensorFlow의 설치 및 기본적인 오퍼레이션  ",
      "version": "0.3.2",
      "provenance": [],
      "collapsed_sections": [],
      "include_colab_link": true
    },
    "kernelspec": {
      "name": "python3",
      "display_name": "Python 3"
    }
  },
  "cells": [
    {
      "cell_type": "markdown",
      "metadata": {
        "id": "view-in-github",
        "colab_type": "text"
      },
      "source": [
        "<a href=\"https://colab.research.google.com/github/eunji12/Python-Machine-Learning-Study/blob/master/ML_lab_01_TensorFlow%EC%9D%98_%EC%84%A4%EC%B9%98_%EB%B0%8F_%EA%B8%B0%EB%B3%B8%EC%A0%81%EC%9D%B8_%EC%98%A4%ED%8D%BC%EB%A0%88%EC%9D%B4%EC%85%98.ipynb\" target=\"_parent\"><img src=\"https://colab.research.google.com/assets/colab-badge.svg\" alt=\"Open In Colab\"/></a>"
      ]
    },
    {
      "metadata": {
        "id": "rdPqh4fWVbtK",
        "colab_type": "text"
      },
      "cell_type": "markdown",
      "source": [
        "### 김성훈 교수의 모두를 위한 딥러닝 \n",
        "- ML lab 01 - TensorFlow의 설치 및 기본적인 오퍼레이션\n",
        "- ML lab 01 - TensorFlow의 설치및 기본적인 operations (new)\n"
      ]
    },
    {
      "metadata": {
        "id": "quaJlEC9Ux2N",
        "colab_type": "code",
        "colab": {}
      },
      "cell_type": "code",
      "source": [
        "import tensorflow as tf"
      ],
      "execution_count": 0,
      "outputs": []
    },
    {
      "metadata": {
        "id": "Ysao1GSHVIxi",
        "colab_type": "code",
        "colab": {}
      },
      "cell_type": "code",
      "source": [
        "hello = tf.constant(\"hello, TensorFlow!\")"
      ],
      "execution_count": 0,
      "outputs": []
    },
    {
      "metadata": {
        "id": "KDhCWgF8VwO3",
        "colab_type": "text"
      },
      "cell_type": "markdown",
      "source": [
        "▼ session생성 후 run으로 노드를 실행"
      ]
    },
    {
      "metadata": {
        "id": "TAGgGJoFVOUF",
        "colab_type": "code",
        "colab": {
          "base_uri": "https://localhost:8080/",
          "height": 35
        },
        "outputId": "21c3e34c-5893-486d-c211-ecc7d1358e8b"
      },
      "cell_type": "code",
      "source": [
        "sess = tf.Session()\n",
        "print(sess.run(hello))"
      ],
      "execution_count": 6,
      "outputs": [
        {
          "output_type": "stream",
          "text": [
            "b'hello, TensorFlow!'\n"
          ],
          "name": "stdout"
        }
      ]
    },
    {
      "metadata": {
        "id": "k_gaCe80WB9z",
        "colab_type": "text"
      },
      "cell_type": "markdown",
      "source": [
        "앞의 b'는 바이트 스트링을 표시함"
      ]
    },
    {
      "metadata": {
        "id": "O5guRJeIWZ2V",
        "colab_type": "code",
        "colab": {
          "base_uri": "https://localhost:8080/",
          "height": 53
        },
        "outputId": "f1af86c8-3e32-400e-96b9-81bbc5ebb718"
      },
      "cell_type": "code",
      "source": [
        "node1 = tf.constant(3.0, tf.float32)\n",
        "node2 = tf.constant(4.0)\n",
        "node3 = tf.add(node1,node2)\n",
        "\n",
        "print(\"nd1: \",node1,\" nd2: \",node2)\n",
        "print(\"nd3 : \",node3)"
      ],
      "execution_count": 11,
      "outputs": [
        {
          "output_type": "stream",
          "text": [
            "nd1:  Tensor(\"Const_3:0\", shape=(), dtype=float32)  nd2:  Tensor(\"Const_4:0\", shape=(), dtype=float32)\n",
            "nd3 :  Tensor(\"Add_1:0\", shape=(), dtype=float32)\n"
          ],
          "name": "stdout"
        }
      ]
    },
    {
      "metadata": {
        "id": "hqLUXhsFY3Bl",
        "colab_type": "text"
      },
      "cell_type": "markdown",
      "source": [
        "session.run 하기전엔 해당 노드가 어떤 노드인지만 알려줌   \n",
        "nd1:  Tensor(\"Const_3:0\", shape=(), dtype=float32)  \n",
        "노드1은 텐서이다, 상수 3.0이 들어간 0차원의 float32형\n",
        "\n"
      ]
    },
    {
      "metadata": {
        "id": "jDwvQz17WmkB",
        "colab_type": "code",
        "colab": {
          "base_uri": "https://localhost:8080/",
          "height": 53
        },
        "outputId": "14e8c943-24af-4c28-ec07-4e5e41393244"
      },
      "cell_type": "code",
      "source": [
        "print(\"sess.run(node1,node2):\",sess.run([node1,node2]))\n",
        "print(\"sess.run(node3):\",sess.run(node3))"
      ],
      "execution_count": 15,
      "outputs": [
        {
          "output_type": "stream",
          "text": [
            "sess.run(node1,node2): [3.0, 4.0]\n",
            "sess.run(node3): 7.0\n"
          ],
          "name": "stdout"
        }
      ]
    },
    {
      "metadata": {
        "id": "lq8zV-R5Wvtn",
        "colab_type": "code",
        "colab": {}
      },
      "cell_type": "code",
      "source": [
        ""
      ],
      "execution_count": 0,
      "outputs": []
    },
    {
      "metadata": {
        "id": "q9kIsilOZyFp",
        "colab_type": "text"
      },
      "cell_type": "markdown",
      "source": [
        "#### Placeholder\n",
        "- 그래프를 먼저 생성 후 (빈 노드 - placeholder) 나중에 데이터를 넣어줄 수 있다.\n",
        "- feed_dict : 값을 넘겨준다 "
      ]
    },
    {
      "metadata": {
        "id": "p_Afw3JlZ4Wh",
        "colab_type": "code",
        "colab": {
          "base_uri": "https://localhost:8080/",
          "height": 71
        },
        "outputId": "4459188c-06ac-40dc-a2ea-261b02c705d7"
      },
      "cell_type": "code",
      "source": [
        "a = tf.placeholder(tf.float32)\n",
        "b = tf.placeholder(tf.float32)\n",
        "adder_node = a+b\n",
        "\n",
        "print(a,\",\",b,\",\",adder_node)\n",
        "print(sess.run(adder_node, feed_dict={a:3, b:4.5}))\n",
        "print(sess.run(adder_node, feed_dict={a:[1,3],b:[2,4]}))"
      ],
      "execution_count": 20,
      "outputs": [
        {
          "output_type": "stream",
          "text": [
            "Tensor(\"Placeholder_6:0\", dtype=float32) , Tensor(\"Placeholder_7:0\", dtype=float32) , Tensor(\"add_5:0\", dtype=float32)\n",
            "7.5\n",
            "[3. 7.]\n"
          ],
          "name": "stdout"
        }
      ]
    },
    {
      "metadata": {
        "id": "g_R8-GHXbzd2",
        "colab_type": "text"
      },
      "cell_type": "markdown",
      "source": [
        "### Ranks, Shapes, Types\n",
        "- Rank는 차원,  Shape은 행열, Types는 데이터 타입     \n",
        "-  t=[[1,2,3],[4,5,6],[7,8,9]]    \n",
        "Rank = 2   \n",
        "Shape = (3,3)   \n",
        "Type = tf.float32    "
      ]
    }
  ]
}